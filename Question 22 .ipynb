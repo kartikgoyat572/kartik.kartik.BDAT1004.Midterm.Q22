{
 "cells": [
  {
   "cell_type": "code",
   "execution_count": 2,
   "id": "a9634e93",
   "metadata": {},
   "outputs": [
    {
     "name": "stdout",
     "output_type": "stream",
     "text": [
      "2\n",
      "4\n"
     ]
    }
   ],
   "source": [
    "import sqlite3\n",
    "database = sqlite3.connect('weather2.db')\n",
    "current = database.cursor()\n",
    "\n",
    "\n",
    "current.execute(\"CREATE TABLE if not exists Weather (id int Primary Key,recordDate date,temperature int)\")\n",
    "current.execute(\"INSERT INTO Weather VALUES (1, '2015-01-01', 10)\")\n",
    "current.execute(\"INSERT INTO Weather VALUES (2, '2015-01-02', 25)\")\n",
    "current.execute(\"INSERT INTO Weather VALUES (3, '2015-01-03', 20)\")\n",
    "current.execute(\"INSERT INTO Weather VALUES (4, '2015-01-04', 30)\")\n",
    "\n",
    "\n",
    "database.commit()\n",
    "\n",
    "\n",
    "current.execute(\"SELECT w1.id FROM Weather w1 JOIN Weather w2 ON w1.id = w2.id + 1 WHERE w1.temperature > w2.temperature\")\n",
    "# + 1 for next day\n",
    "\n",
    "result = current.fetchall()\n",
    "for item in result:\n",
    "    print(item[0])\n",
    "\n",
    "database.close()"
   ]
  },
  {
   "cell_type": "code",
   "execution_count": 3,
   "id": "61d0e097",
   "metadata": {},
   "outputs": [],
   "source": [
    "%load_ext sql"
   ]
  },
  {
   "cell_type": "code",
   "execution_count": 4,
   "id": "210de2a5",
   "metadata": {},
   "outputs": [],
   "source": [
    "%sql sqlite:///weather2.db"
   ]
  },
  {
   "cell_type": "code",
   "execution_count": 5,
   "id": "ca285c34",
   "metadata": {},
   "outputs": [
    {
     "name": "stdout",
     "output_type": "stream",
     "text": [
      " * sqlite:///weather2.db\n",
      "Done.\n"
     ]
    },
    {
     "data": {
      "text/html": [
       "<table>\n",
       "    <thead>\n",
       "        <tr>\n",
       "            <th>id</th>\n",
       "        </tr>\n",
       "    </thead>\n",
       "    <tbody>\n",
       "        <tr>\n",
       "            <td>2</td>\n",
       "        </tr>\n",
       "        <tr>\n",
       "            <td>4</td>\n",
       "        </tr>\n",
       "    </tbody>\n",
       "</table>"
      ],
      "text/plain": [
       "[(2,), (4,)]"
      ]
     },
     "execution_count": 5,
     "metadata": {},
     "output_type": "execute_result"
    }
   ],
   "source": [
    "%%sql\n",
    "SELECT w1.id\n",
    "FROM Weather w1\n",
    "JOIN Weather w2 ON w1.recordDate = DATE(w2.recordDate, '+1 day')\n",
    "WHERE w1.temperature > w2.temperature;\n"
   ]
  },
  {
   "cell_type": "code",
   "execution_count": null,
   "id": "4b802c8e",
   "metadata": {},
   "outputs": [],
   "source": []
  }
 ],
 "metadata": {
  "kernelspec": {
   "display_name": "Python 3 (ipykernel)",
   "language": "python",
   "name": "python3"
  },
  "language_info": {
   "codemirror_mode": {
    "name": "ipython",
    "version": 3
   },
   "file_extension": ".py",
   "mimetype": "text/x-python",
   "name": "python",
   "nbconvert_exporter": "python",
   "pygments_lexer": "ipython3",
   "version": "3.11.5"
  }
 },
 "nbformat": 4,
 "nbformat_minor": 5
}
